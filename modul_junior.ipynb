{
  "nbformat": 4,
  "nbformat_minor": 0,
  "metadata": {
    "colab": {
      "provenance": [],
      "authorship_tag": "ABX9TyMUnuz5Qdv36/O8q9gQtHio",
      "include_colab_link": true
    },
    "kernelspec": {
      "name": "python3",
      "display_name": "Python 3"
    },
    "language_info": {
      "name": "python"
    }
  },
  "cells": [
    {
      "cell_type": "markdown",
      "metadata": {
        "id": "view-in-github",
        "colab_type": "text"
      },
      "source": [
        "<a href=\"https://colab.research.google.com/github/kaylaque/laboratory-emg/blob/main/modul_junior.ipynb\" target=\"_parent\"><img src=\"https://colab.research.google.com/assets/colab-badge.svg\" alt=\"Open In Colab\"/></a>"
      ]
    },
    {
      "cell_type": "markdown",
      "source": [
        "#**Modul Junior**"
      ],
      "metadata": {
        "id": "JOfbaheLAf8B"
      }
    },
    {
      "cell_type": "markdown",
      "source": [
        "Determine window size in each method"
      ],
      "metadata": {
        "id": "PMFI5YBKDfIP"
      }
    },
    {
      "cell_type": "code",
      "execution_count": null,
      "metadata": {
        "id": "CPDRudpr5O-1"
      },
      "outputs": [],
      "source": [
        "import pandas as pd\n",
        "raw = pd.read_csv('/filepath')\n",
        "raw.head()"
      ]
    },
    {
      "cell_type": "code",
      "source": [
        "# make sure header set to 'y'\n",
        "# raw.rename(columns = {'header_number':'y'}, inplace = True)\n",
        "# raw.info()"
      ],
      "metadata": {
        "id": "kTaO4jCobQLm"
      },
      "execution_count": null,
      "outputs": []
    },
    {
      "cell_type": "code",
      "source": [
        "import matplotlib.pyplot as plt\n",
        "plt.grid()\n",
        "plt.plot(raw['y'])"
      ],
      "metadata": {
        "id": "QQQTfsVbZdC6"
      },
      "execution_count": null,
      "outputs": []
    },
    {
      "cell_type": "markdown",
      "source": [
        "### Moving Standar Deviation"
      ],
      "metadata": {
        "id": "oT_TVphYZRl6"
      }
    },
    {
      "cell_type": "code",
      "source": [
        "import numpy as np\n",
        "import statistics\n",
        "\n",
        "window_size = *\n",
        "i = 0\n",
        "# Initialize an empty list to store moving stdev\n",
        "moving_stdevs = []\n",
        "raw_ext = raw.copy()\n",
        "x = pd.DataFrame({'y' : [0 for ele in range(window_size)]})\n",
        "raw_ext = raw_ext.append(x, ignore_index = True)\n",
        "# Loop through the array raw_ext\n",
        "# consider every window of size *\n",
        "while i < len(raw['y'])- window_size:\n",
        "\n",
        "    # Calculate the stdev of current window\n",
        "    window_stdev = statistics.stdev(raw_ext['y'][i:i+window_size])\n",
        "    # Store the stdev of current window in moving stdev list\n",
        "    moving_stdevs.append(window_stdev)\n",
        "\n",
        "    # Shift window to right by one position\n",
        "    i += 1\n",
        "\n",
        "print(moving_stdevs)"
      ],
      "metadata": {
        "id": "gHcnlWGXZUqq"
      },
      "execution_count": null,
      "outputs": []
    },
    {
      "cell_type": "code",
      "source": [
        "plt.plot(moving_stdevs)"
      ],
      "metadata": {
        "id": "_RzXlilCZZqh"
      },
      "execution_count": null,
      "outputs": []
    },
    {
      "cell_type": "markdown",
      "source": [
        "### Moving Average"
      ],
      "metadata": {
        "id": "Yih99wuMaqAH"
      }
    },
    {
      "cell_type": "code",
      "source": [
        "import numpy as np\n",
        "window_size = *\n",
        "i = 0\n",
        "# Initialize an empty list to store moving averages\n",
        "moving_averages = []\n",
        "raw_ext = raw.copy()\n",
        "x = pd.DataFrame({'y' : [0 for ele in range(window_size)]})\n",
        "raw_ext = raw_ext.append(x, ignore_index = True)\n",
        "# Loop through the array t o\n",
        "#consider every window of size 3\n",
        "while i < len(raw_ext['y']) - window_size:\n",
        "\n",
        "    # Calculate the average of current window\n",
        "    window_average = round(np.sum(raw_ext['y'][i:i+window_size]) / window_size, 2)\n",
        "    # Store the average of current window in moving average list\n",
        "    moving_averages.append(window_average)\n",
        "\n",
        "    # Shift window to right by one position\n",
        "    i += 1\n",
        "\n",
        "print(moving_averages)"
      ],
      "metadata": {
        "id": "YJ94iotNaz7q"
      },
      "execution_count": null,
      "outputs": []
    },
    {
      "cell_type": "code",
      "source": [
        "plt.plot(moving_averages)"
      ],
      "metadata": {
        "id": "0kxkSripa5IF"
      },
      "execution_count": null,
      "outputs": []
    },
    {
      "cell_type": "markdown",
      "source": [
        "### FFT with DC offset loss"
      ],
      "metadata": {
        "id": "VrqrwO2fa_v8"
      }
    },
    {
      "cell_type": "code",
      "source": [
        "import numpy as np\n",
        "emg_meanCorrected = raw['y'] - np.mean(raw['y'])\n",
        "type(emg_meanCorrected)"
      ],
      "metadata": {
        "id": "TB6TzqNNtJ5i",
        "colab": {
          "base_uri": "https://localhost:8080/"
        },
        "outputId": "4db56bb1-8d25-4451-a3f5-0f6e84b62362"
      },
      "execution_count": null,
      "outputs": [
        {
          "output_type": "execute_result",
          "data": {
            "text/plain": [
              "pandas.core.series.Series"
            ]
          },
          "metadata": {},
          "execution_count": 27
        }
      ]
    },
    {
      "cell_type": "markdown",
      "source": [
        "##### FFT"
      ],
      "metadata": {
        "id": "v0RcutwUdQ6O"
      }
    },
    {
      "cell_type": "code",
      "source": [
        "import math\n",
        "import numpy as np\n",
        "from scipy.fft import fft, fftfreq, ifft"
      ],
      "metadata": {
        "id": "UbPJn3tf9Ger"
      },
      "execution_count": null,
      "outputs": []
    },
    {
      "cell_type": "code",
      "source": [
        "def get_fft(impulse):\n",
        "  #sampling rate of EMG\n",
        "  Fs = 200\n",
        "  #time sampling\n",
        "  n_sampling = len(impulse)\n",
        "  t_end = n_sampling/Fs\n",
        "  ts = 1/Fs\n",
        "  #time\n",
        "  t = np.arange(0,t_end,ts)\n",
        "  n_emg = np.size(t)\n",
        "  signal = np.array(impulse)\n",
        "  fft_sig = fft(signal)\n",
        "  freq_axis_emg = (Fs/2) * np.linspace (0, 1 , int(n_emg/2))\n",
        "  FFT_emg_normalized = abs(fft_sig[0:np.size(freq_axis_emg)]) * (2/n_emg)\n",
        "\n",
        "  return(FFT_emg_normalized, freq_axis_emg, fft_sig)"
      ],
      "metadata": {
        "id": "TbE2ghFw9I7M"
      },
      "execution_count": null,
      "outputs": []
    },
    {
      "cell_type": "code",
      "source": [
        "def plotImpulse(impulse, freq_axis_emg, FFT_emg_normalized, fft_sig, mode):\n",
        "    fig, (ax1, ax2, ax3) = plt.subplots(1, 3)\n",
        "    fig.set_size_inches(w=30,h=8)\n",
        "    fig.suptitle(mode + 'Signal')\n",
        "    ax1.set_title('raw')\n",
        "    ax1.grid()\n",
        "    ax1.plot(impulse)\n",
        "\n",
        "    ax2.set_title('FFT')\n",
        "    ax2.plot (freq_axis_emg, FFT_emg_normalized)\n",
        "    ax2.grid()\n",
        "\n",
        "    ax3.set_title('inverse FFT')\n",
        "    ax3.plot(ifft(fft_sig))\n",
        "    ax3.grid()\n",
        "    plt.show()"
      ],
      "metadata": {
        "id": "MzfLq0SjBohr"
      },
      "execution_count": null,
      "outputs": []
    },
    {
      "cell_type": "code",
      "source": [
        "#determine a, b to slice signal and mode used\n",
        "FFT_emg_normalized, freq_axis_emg, fft_sig = get_fft(emg_meanCorrected[a:b])\n",
        "plotImpulse(emg_meanCorrected[a:b], freq_axis_emg, FFT_emg_normalized, fft_sig, mode = 'impulse/non-impulse')"
      ],
      "metadata": {
        "id": "RtJXnKskCblK"
      },
      "execution_count": null,
      "outputs": []
    },
    {
      "cell_type": "markdown",
      "source": [
        "### Envelope"
      ],
      "metadata": {
        "id": "TVifKiFLbHQR"
      }
    },
    {
      "cell_type": "code",
      "source": [
        "windowsize = *\n",
        "raw[\"y_upperEnv\"]=raw[\"y\"].rolling(window=windowsize).max().shift(int(-windowsize/2))\n",
        "raw[\"y_lowerEnv\"]=raw[\"y\"].rolling(window=windowsize).min().shift(int(-windowsize/2))\n",
        "\n",
        "raw.plot(figsize=(20,10))"
      ],
      "metadata": {
        "id": "UmZbrROBbGTs"
      },
      "execution_count": null,
      "outputs": []
    }
  ]
}